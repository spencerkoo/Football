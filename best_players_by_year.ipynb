{
 "cells": [
  {
   "cell_type": "markdown",
   "metadata": {
    "_cell_guid": "9d31583f-d8c6-de91-87c9-70aa4aed0459"
   },
   "source": [
    "This is a simple script that ranks the players every year based on their overall rating score. It then returns a table with all those players falling in the Top 20 ranking per year.\n",
    "Note that there will be years with less or more than 20 players in the rankings. Obviously, the total number of players ranked in the top 20 will vary depending on how many players have the same overall rating.\n",
    "\n",
    "I'm going to keep experimenting and adding some graphs etc later on when I have some time."
   ]
  },
  {
   "cell_type": "code",
   "execution_count": 2,
   "metadata": {
    "_cell_guid": "dbd9f676-4271-174f-2486-7876fe1ba32f",
    "collapsed": false
   },
   "outputs": [
    {
     "data": {
      "text/html": [
       "<div>\n",
       "<table border=\"1\" class=\"dataframe\">\n",
       "  <thead>\n",
       "    <tr style=\"text-align: right;\">\n",
       "      <th></th>\n",
       "      <th>name</th>\n",
       "    </tr>\n",
       "  </thead>\n",
       "  <tbody>\n",
       "    <tr>\n",
       "      <th>0</th>\n",
       "      <td>sqlite_sequence</td>\n",
       "    </tr>\n",
       "    <tr>\n",
       "      <th>1</th>\n",
       "      <td>Player_Attributes</td>\n",
       "    </tr>\n",
       "    <tr>\n",
       "      <th>2</th>\n",
       "      <td>Player</td>\n",
       "    </tr>\n",
       "    <tr>\n",
       "      <th>3</th>\n",
       "      <td>Match</td>\n",
       "    </tr>\n",
       "    <tr>\n",
       "      <th>4</th>\n",
       "      <td>League</td>\n",
       "    </tr>\n",
       "    <tr>\n",
       "      <th>5</th>\n",
       "      <td>Country</td>\n",
       "    </tr>\n",
       "    <tr>\n",
       "      <th>6</th>\n",
       "      <td>Team</td>\n",
       "    </tr>\n",
       "    <tr>\n",
       "      <th>7</th>\n",
       "      <td>Team_Attributes</td>\n",
       "    </tr>\n",
       "  </tbody>\n",
       "</table>\n",
       "</div>"
      ],
      "text/plain": [
       "                name\n",
       "0    sqlite_sequence\n",
       "1  Player_Attributes\n",
       "2             Player\n",
       "3              Match\n",
       "4             League\n",
       "5            Country\n",
       "6               Team\n",
       "7    Team_Attributes"
      ]
     },
     "execution_count": 2,
     "metadata": {},
     "output_type": "execute_result"
    }
   ],
   "source": [
    "import sqlite3\n",
    "import pandas as pd\n",
    "import numpy as np\n",
    "import datetime\n",
    "\n",
    "# Reading in the data from the SQLite database file\n",
    "db = 'soccer.sqlite'\n",
    "connect = sqlite3.connect(db)\n",
    "query = \"SELECT name FROM sqlite_master WHERE type = 'table';\"\n",
    "pd.read_sql(query, connect)"
   ]
  },
  {
   "cell_type": "code",
   "execution_count": 3,
   "metadata": {
    "_cell_guid": "3ff3d7f8-0f0d-7833-c9cc-cac6adf1cc6d",
    "collapsed": true
   },
   "outputs": [],
   "source": [
    "# Put data into dataframes\n",
    "query = \"SELECT * FROM player;\"\n",
    "players_df = pd.read_sql(query, connect)\n",
    "\n",
    "query = \"SELECT * FROM player_attributes\"\n",
    "player_stats_df = pd.read_sql(query, connect)\n",
    "\n",
    "# Set options so I can see more of the dataframe\n",
    "pd.set_option('display.max_columns', 50)\n",
    "pd.set_option('display.max_rows', 200)"
   ]
  },
  {
   "cell_type": "markdown",
   "metadata": {
    "_cell_guid": "da4b7158-fd7b-c426-6d5c-0aad3a3937cb"
   },
   "source": [
    "Data manipulation"
   ]
  },
  {
   "cell_type": "code",
   "execution_count": 4,
   "metadata": {
    "_cell_guid": "e58d4fd9-860d-f254-74c2-e80228cbceb3",
    "collapsed": false
   },
   "outputs": [],
   "source": [
    "# Merge the player and player_attribute data\n",
    "df = players_df.merge(player_stats_df, how='inner', on='player_api_id')\n",
    "\n",
    "# Calculate the age of the players\n",
    "df['birthday'] = pd.to_datetime(df['birthday'])\n",
    "df['date'] = pd.to_datetime(df['date'])\n",
    "df['age'] = df['date'] - df['birthday']\n",
    "\n",
    "# Drop unnecessary columns\n",
    "ratings_df = df.drop(['id_x', 'id_y', 'player_fifa_api_id_x', 'player_fifa_api_id_y',\n",
    "                     'birthday', 'attacking_work_rate', 'defensive_work_rate'], 1)\n",
    "# ratings_df = df[['player_api_id', 'player_name', 'age', 'height', 'weight', 'date',\n",
    "#                  'overall_rating', 'potential']]\n",
    "\n",
    "# Drop players without any rating\n",
    "ratings_df = ratings_df.drop(ratings_df[ratings_df['overall_rating'].isnull()].index)\n",
    "\n",
    "# Sorting by rating rather than age\n",
    "# I will later group by the year and want to have the highest rating per player when I\n",
    "# remove the duplicate players within each year\n",
    "ratings_df.sort_values(['player_name', 'player_api_id', 'overall_rating',\n",
    "                        'potential'], ascending=[True, True, False, False], inplace=True)\n",
    "\n",
    "# Change the date to just the year\n",
    "ratings_df['date'] = ratings_df['date'].apply(lambda x: x.year)"
   ]
  },
  {
   "cell_type": "markdown",
   "metadata": {
    "_cell_guid": "af822587-442e-05e3-b66e-1675b2ee0a2d"
   },
   "source": [
    "Grouping by year"
   ]
  },
  {
   "cell_type": "code",
   "execution_count": 5,
   "metadata": {
    "_cell_guid": "1daeff99-31ff-b1e9-8d4b-68a216ecf820",
    "collapsed": true
   },
   "outputs": [],
   "source": [
    "# Grouping the players by the year\n",
    "group = ratings_df.groupby('date')\n",
    "\n",
    "# Dropping the duplicate player entries per year\n",
    "ratings_df_unique = group.apply(lambda x: x.drop_duplicates(subset = 'player_api_id', keep = 'first'))\n",
    "\n",
    "# Grouping the df again into another df group object\n",
    "group = ratings_df_unique.groupby('date')"
   ]
  },
  {
   "cell_type": "markdown",
   "metadata": {
    "_cell_guid": "8185c1f0-3ad4-c09a-587b-155f18b748c7"
   },
   "source": [
    "Ranking players based on overall ratings"
   ]
  },
  {
   "cell_type": "code",
   "execution_count": 6,
   "metadata": {
    "_cell_guid": "854ffccb-5b02-2641-0516-cdc16c7f4b2c",
    "collapsed": true
   },
   "outputs": [],
   "source": [
    "# Adding a rating rank var\n",
    "# Logic here is that if overall rating ties are not taken into account, then the data would\n",
    "# be biased in an arbitrary manner for regression/prediction later on\n",
    "# For example, if you have the data ranked by rating and then alphabetically, then those players\n",
    "# at the end of the alphabet will be left out of the top 20, even if they have the same\n",
    "# overall rating as those players with names lower in the alphabet\n",
    "ratings_df_unique['rating_rank'] = group['overall_rating'].rank(ascending=False)"
   ]
  },
  {
   "cell_type": "code",
   "execution_count": 10,
   "metadata": {
    "_cell_guid": "d387088b-2329-d319-0f7a-11feb7a7452c",
    "collapsed": false
   },
   "outputs": [],
   "source": [
    "# Return the top 20 overall rating ranks by year\n",
    "output_df = group.apply(lambda x: x.drop(x[x['rating_rank'] > 20].index).sort_values(\n",
    "    by=['rating_rank', 'potential'], ascending=[True, False]).reset_index(drop=True))"
   ]
  },
  {
   "cell_type": "code",
   "execution_count": 14,
   "metadata": {
    "_cell_guid": "e06838e0-81ff-1bd7-955d-d4f80d708b8e",
    "collapsed": false
   },
   "outputs": [],
   "source": [
    "output_df.to_csv('for_vis.csv')"
   ]
  },
  {
   "cell_type": "code",
   "execution_count": null,
   "metadata": {
    "collapsed": true
   },
   "outputs": [],
   "source": []
  }
 ],
 "metadata": {
  "_change_revision": 38,
  "_is_fork": false,
  "kernelspec": {
   "display_name": "Python 2",
   "language": "python",
   "name": "python2"
  },
  "language_info": {
   "codemirror_mode": {
    "name": "ipython",
    "version": 2
   },
   "file_extension": ".py",
   "mimetype": "text/x-python",
   "name": "python",
   "nbconvert_exporter": "python",
   "pygments_lexer": "ipython2",
   "version": "2.7.12"
  }
 },
 "nbformat": 4,
 "nbformat_minor": 0
}
